{
 "cells": [
  {
   "cell_type": "markdown",
   "metadata": {},
   "source": [
    "# Interoperability with `scirpy`\n",
    "\n",
    "It is now possible to convert the file formats between `dandelion>=0.1.1` and `scirpy>=0.6.2` [[Sturm2020]](https://academic.oup.com/bioinformatics/article/36/18/4817/5866543) to enhance the collaboration between the analysis toolkits.\n",
    "\n",
    "We will download the *airr_rearrangement.tsv* file from here:\n",
    "```bash\n",
    "# bash\n",
    "wget https://cf.10xgenomics.com/samples/cell-vdj/4.0.0/sc5p_v2_hs_PBMC_10k/sc5p_v2_hs_PBMC_10k_b_airr_rearrangement.tsv\n",
    "```\n",
    "\n",
    "Gene expression data can also be obtained here\n",
    "\n",
    "```bash\n",
    "# bash \n",
    "wget https://cf.10xgenomics.com/samples/cell-vdj/4.0.0/sc5p_v2_hs_PBMC_10k/sc5p_v2_hs_PBMC_10k_filtered_feature_bc_matrix.h5\n",
    "```\n"
   ]
  },
  {
   "cell_type": "markdown",
   "metadata": {},
   "source": [
    "<b>Import dandelion module</b>"
   ]
  },
  {
   "cell_type": "code",
   "execution_count": 1,
   "metadata": {
    "scrolled": true
   },
   "outputs": [
    {
     "name": "stdout",
     "output_type": "stream",
     "text": [
      "dandelion==0.3.4.dev68 pandas==2.1.0 numpy==1.24.4 matplotlib==3.7.2 networkx==3.1 scipy==1.11.2\n"
     ]
    }
   ],
   "source": [
    "import os\n",
    "import dandelion as ddl\n",
    "\n",
    "# change directory to somewhere more workable\n",
    "# os.chdir(os.path.expanduser(\"~/Downloads/dandelion_tutorial/\"))\n",
    "ddl.logging.print_versions()"
   ]
  },
  {
   "cell_type": "code",
   "execution_count": 2,
   "metadata": {},
   "outputs": [
    {
     "name": "stderr",
     "output_type": "stream",
     "text": [
      "c:\\Users\\Amos Choo\\Desktop\\dandelion\\env\\Lib\\site-packages\\tqdm\\auto.py:21: TqdmWarning: IProgress not found. Please update jupyter and ipywidgets. See https://ipywidgets.readthedocs.io/en/stable/user_install.html\n"
     ]
    },
    {
     "data": {
      "text/plain": [
       "'0.14.0'"
      ]
     },
     "execution_count": 2,
     "metadata": {},
     "output_type": "execute_result"
    }
   ],
   "source": [
    "import scirpy as ir\n",
    "import scanpy as sc\n",
    "\n",
    "\n",
    "\n",
    "ir.__version__"
   ]
  },
  {
   "cell_type": "markdown",
   "metadata": {},
   "source": [
    "## `dandelion`"
   ]
  },
  {
   "cell_type": "code",
   "execution_count": 7,
   "metadata": {
    "scrolled": true
   },
   "outputs": [
    {
     "name": "stderr",
     "output_type": "stream",
     "text": [
      "c:\\Users\\Amos Choo\\Desktop\\dandelion\\env\\Lib\\site-packages\\anndata\\_core\\anndata.py:1840: UserWarning: Variable names are not unique. To make them unique, call `.var_names_make_unique`.\n",
      "c:\\Users\\Amos Choo\\Desktop\\dandelion\\env\\Lib\\site-packages\\anndata\\_core\\anndata.py:1113: FutureWarning: is_categorical_dtype is deprecated and will be removed in a future version. Use isinstance(dtype, CategoricalDtype) instead\n",
      "c:\\Users\\Amos Choo\\Desktop\\dandelion\\env\\Lib\\site-packages\\anndata\\_core\\anndata.py:1840: UserWarning: Variable names are not unique. To make them unique, call `.var_names_make_unique`.\n"
     ]
    },
    {
     "data": {
      "text/plain": [
       "Dandelion class object with n_obs = 994 and n_contigs = 2093\n",
       "    data: 'cell_id', 'sequence_id', 'sequence', 'sequence_aa', 'productive', 'rev_comp', 'v_call', 'v_cigar', 'd_call', 'd_cigar', 'j_call', 'j_cigar', 'c_call', 'c_cigar', 'sequence_alignment', 'germline_alignment', 'junction', 'junction_aa', 'junction_length', 'junction_aa_length', 'v_sequence_start', 'v_sequence_end', 'd_sequence_start', 'd_sequence_end', 'j_sequence_start', 'j_sequence_end', 'c_sequence_start', 'c_sequence_end', 'consensus_count', 'duplicate_count', 'is_cell', 'locus', 'rearrangement_status'\n",
       "    metadata: 'locus_VDJ', 'locus_VJ', 'productive_VDJ', 'productive_VJ', 'v_call_VDJ', 'd_call_VDJ', 'j_call_VDJ', 'v_call_VJ', 'j_call_VJ', 'c_call_VDJ', 'c_call_VJ', 'junction_VDJ', 'junction_VJ', 'junction_aa_VDJ', 'junction_aa_VJ', 'v_call_B_VDJ', 'd_call_B_VDJ', 'j_call_B_VDJ', 'v_call_B_VJ', 'j_call_B_VJ', 'c_call_B_VDJ', 'c_call_B_VJ', 'productive_B_VDJ', 'productive_B_VJ', 'duplicate_count_B_VDJ', 'duplicate_count_B_VJ', 'v_call_VDJ_main', 'v_call_VJ_main', 'd_call_VDJ_main', 'j_call_VDJ_main', 'j_call_VJ_main', 'c_call_VDJ_main', 'c_call_VJ_main', 'v_call_B_VDJ_main', 'd_call_B_VDJ_main', 'j_call_B_VDJ_main', 'v_call_B_VJ_main', 'j_call_B_VJ_main', 'isotype', 'isotype_status', 'locus_status', 'chain_status', 'rearrangement_status_VDJ', 'rearrangement_status_VJ'"
      ]
     },
     "execution_count": 7,
     "metadata": {},
     "output_type": "execute_result"
    }
   ],
   "source": [
    "# read in the airr_rearrangement.tsv file\n",
    "file_location = (\n",
    "    \"sc5p_v2_hs_PBMC_10k/sc5p_v2_hs_PBMC_10k_b_airr_rearrangement.tsv\"\n",
    ")\n",
    "\n",
    "# read in gene expression data\n",
    "adata = sc.read_10x_h5(\"sc5p_v2_hs_PBMC_10k_filtered_feature_bc_matrix.h5\")\n",
    "adata.var_names_make_unique()\n",
    "\n",
    "vdj = ddl.read_10x_airr(file_location)\n",
    "vdj"
   ]
  },
  {
   "cell_type": "markdown",
   "metadata": {},
   "source": [
    "The test file contains a blank `clone_id` column so we run `find_clones` to populate it first."
   ]
  },
  {
   "cell_type": "code",
   "execution_count": 19,
   "metadata": {},
   "outputs": [
    {
     "name": "stderr",
     "output_type": "stream",
     "text": [
      "Finding clones based on B cell VDJ chains : 100%|██████████| 157/157 [00:00<00:00, 943.44it/s]\n",
      "Finding clones based on B cell VJ chains : 100%|██████████| 164/164 [00:00<00:00, 1247.98it/s]\n",
      "Refining clone assignment based on VJ chain pairing : 100%|██████████| 994/994 [00:00<00:00, 83823.68it/s]\n"
     ]
    }
   ],
   "source": [
    "ddl.tl.find_clones(vdj)"
   ]
  },
  {
   "cell_type": "markdown",
   "metadata": {},
   "source": [
    "### `ddl.to_scirpy` : Converting `dandelion` to `scirpy`"
   ]
  },
  {
   "cell_type": "code",
   "execution_count": 5,
   "metadata": {
    "scrolled": true
   },
   "outputs": [
    {
     "name": "stderr",
     "output_type": "stream",
     "text": [
      "c:\\Users\\Amos Choo\\Desktop\\dandelion\\env\\Lib\\site-packages\\anndata\\_core\\aligned_mapping.py:54: ExperimentalFeatureWarning: Support for Awkward Arrays is currently experimental. Behavior may change in the future. Please report any issues you may encounter!\n"
     ]
    },
    {
     "data": {
      "text/plain": [
       "AnnData object with n_obs × n_vars = 994 × 0\n",
       "    obsm: 'airr'"
      ]
     },
     "execution_count": 5,
     "metadata": {},
     "output_type": "execute_result"
    }
   ],
   "source": [
    "irdata = ddl.to_scirpy(vdj)\n",
    "irdata"
   ]
  },
  {
   "cell_type": "markdown",
   "metadata": {},
   "source": [
    "Conversion to `MuData` in scirpy format is also available"
   ]
  },
  {
   "cell_type": "code",
   "execution_count": 7,
   "metadata": {},
   "outputs": [
    {
     "data": {
      "text/html": [
       "<pre>MuData object with n_obs × n_vars = 994 × 0\n",
       "  1 modality\n",
       "    airr:\t994 x 0\n",
       "      obsm:\t&#x27;airr&#x27;</pre>"
      ],
      "text/plain": [
       "MuData object with n_obs × n_vars = 994 × 0\n",
       "  1 modality\n",
       "    airr:\t994 x 0\n",
       "      obsm:\t'airr'"
      ]
     },
     "execution_count": 7,
     "metadata": {},
     "output_type": "execute_result"
    }
   ],
   "source": [
    "mudata = ddl.to_scirpy(vdj, to_mudata=True)\n",
    "mudata"
   ]
  },
  {
   "cell_type": "code",
   "execution_count": 8,
   "metadata": {},
   "outputs": [
    {
     "data": {
      "text/plain": [
       "AnnData object with n_obs × n_vars = 994 × 0\n",
       "    obs: 'clone_id', 'clone_id_by_size', 'locus_VDJ', 'locus_VJ', 'productive_VDJ', 'productive_VJ', 'v_call_VDJ', 'd_call_VDJ', 'j_call_VDJ', 'v_call_VJ', 'j_call_VJ', 'c_call_VDJ', 'c_call_VJ', 'junction_VDJ', 'junction_VJ', 'junction_aa_VDJ', 'junction_aa_VJ', 'v_call_B_VDJ', 'd_call_B_VDJ', 'j_call_B_VDJ', 'v_call_B_VJ', 'j_call_B_VJ', 'c_call_B_VDJ', 'c_call_B_VJ', 'productive_B_VDJ', 'productive_B_VJ', 'duplicate_count_B_VDJ', 'duplicate_count_B_VJ', 'v_call_VDJ_main', 'v_call_VJ_main', 'd_call_VDJ_main', 'j_call_VDJ_main', 'j_call_VJ_main', 'c_call_VDJ_main', 'c_call_VJ_main', 'v_call_B_VDJ_main', 'd_call_B_VDJ_main', 'j_call_B_VDJ_main', 'v_call_B_VJ_main', 'j_call_B_VJ_main', 'isotype', 'isotype_status', 'locus_status', 'chain_status', 'rearrangement_status_VDJ', 'rearrangement_status_VJ'\n",
       "    uns: 'scirpy_version'\n",
       "    obsm: 'airr'"
      ]
     },
     "execution_count": 8,
     "metadata": {},
     "output_type": "execute_result"
    }
   ],
   "source": [
    "ir.io.from_dandelion(vdj, adata)"
   ]
  },
  {
   "cell_type": "markdown",
   "metadata": {},
   "source": [
    "If you have gene expression data, the parameter `gex_adata` supports the gene expression data in `AnnData` format.\n",
    "\n",
    "Please note that this will slice to the same cell_id that are present in the same in the AIRR data."
   ]
  },
  {
   "cell_type": "code",
   "execution_count": 10,
   "metadata": {},
   "outputs": [
    {
     "name": "stderr",
     "output_type": "stream",
     "text": [
      "c:\\Users\\Amos Choo\\Desktop\\dandelion\\env\\Lib\\site-packages\\anndata\\_core\\anndata.py:1113: FutureWarning: is_categorical_dtype is deprecated and will be removed in a future version. Use isinstance(dtype, CategoricalDtype) instead\n",
      "c:\\Users\\Amos Choo\\Desktop\\dandelion\\env\\Lib\\site-packages\\anndata\\_core\\anndata.py:121: ImplicitModificationWarning: Transforming to str index.\n"
     ]
    },
    {
     "data": {
      "text/plain": [
       "AnnData object with n_obs × n_vars = 984 × 36601\n",
       "    var: 'gene_ids', 'feature_types', 'genome'\n",
       "    obsm: 'airr'"
      ]
     },
     "execution_count": 10,
     "metadata": {},
     "output_type": "execute_result"
    }
   ],
   "source": [
    "irdata = ddl.to_scirpy(vdj, to_mudata=False, gex_adata=adata)\n",
    "irdata"
   ]
  },
  {
   "cell_type": "code",
   "execution_count": 11,
   "metadata": {},
   "outputs": [
    {
     "name": "stderr",
     "output_type": "stream",
     "text": [
      "c:\\Users\\Amos Choo\\Desktop\\dandelion\\env\\Lib\\site-packages\\anndata\\_core\\anndata.py:1113: FutureWarning: is_categorical_dtype is deprecated and will be removed in a future version. Use isinstance(dtype, CategoricalDtype) instead\n",
      "c:\\Users\\Amos Choo\\Desktop\\dandelion\\env\\Lib\\site-packages\\anndata\\_core\\anndata.py:121: ImplicitModificationWarning: Transforming to str index.\n",
      "c:\\Users\\Amos Choo\\Desktop\\dandelion\\env\\Lib\\site-packages\\mudata\\_core\\mudata.py:491: UserWarning: Cannot join columns with the same name because var_names are intersecting.\n"
     ]
    },
    {
     "data": {
      "text/html": [
       "<pre>MuData object with n_obs × n_vars = 10553 × 73202\n",
       "  2 modalities\n",
       "    gex:\t10553 x 36601\n",
       "      var:\t&#x27;gene_ids&#x27;, &#x27;feature_types&#x27;, &#x27;genome&#x27;\n",
       "    airr:\t984 x 36601\n",
       "      var:\t&#x27;gene_ids&#x27;, &#x27;feature_types&#x27;, &#x27;genome&#x27;\n",
       "      obsm:\t&#x27;airr&#x27;</pre>"
      ],
      "text/plain": [
       "MuData object with n_obs × n_vars = 10553 × 73202\n",
       "  2 modalities\n",
       "    gex:\t10553 x 36601\n",
       "      var:\t'gene_ids', 'feature_types', 'genome'\n",
       "    airr:\t984 x 36601\n",
       "      var:\t'gene_ids', 'feature_types', 'genome'\n",
       "      obsm:\t'airr'"
      ]
     },
     "execution_count": 11,
     "metadata": {},
     "output_type": "execute_result"
    }
   ],
   "source": [
    "mudata = ddl.to_scirpy(vdj, to_mudata=True, gex_adata=adata)\n",
    "mudata"
   ]
  },
  {
   "cell_type": "markdown",
   "metadata": {},
   "source": [
    "to transfer every column found in a dandelion airr object (including things like `germline_alignment_d_mask`) do:"
   ]
  },
  {
   "cell_type": "code",
   "execution_count": 12,
   "metadata": {},
   "outputs": [
    {
     "data": {
      "text/plain": [
       "AnnData object with n_obs × n_vars = 994 × 0\n",
       "    obsm: 'airr'"
      ]
     },
     "execution_count": 12,
     "metadata": {},
     "output_type": "execute_result"
    }
   ],
   "source": [
    "irdata = ddl.to_scirpy(vdj, include_fields=vdj.data.columns)\n",
    "irdata"
   ]
  },
  {
   "cell_type": "markdown",
   "metadata": {},
   "source": [
    "The `clone_id` is mapped to `IR_VJ_1_clone_id` column."
   ]
  },
  {
   "cell_type": "markdown",
   "metadata": {},
   "source": [
    "`transfer = True` will perform dandelion's `tl.transfer`."
   ]
  },
  {
   "cell_type": "code",
   "execution_count": 13,
   "metadata": {
    "scrolled": true
   },
   "outputs": [
    {
     "data": {
      "text/plain": [
       "AnnData object with n_obs × n_vars = 994 × 0\n",
       "    obs: 'locus_VDJ', 'locus_VJ', 'productive_VDJ', 'productive_VJ', 'v_call_VDJ', 'd_call_VDJ', 'j_call_VDJ', 'v_call_VJ', 'j_call_VJ', 'c_call_VDJ', 'c_call_VJ', 'junction_VDJ', 'junction_VJ', 'junction_aa_VDJ', 'junction_aa_VJ', 'v_call_B_VDJ', 'd_call_B_VDJ', 'j_call_B_VDJ', 'v_call_B_VJ', 'j_call_B_VJ', 'c_call_B_VDJ', 'c_call_B_VJ', 'productive_B_VDJ', 'productive_B_VJ', 'duplicate_count_B_VDJ', 'duplicate_count_B_VJ', 'v_call_VDJ_main', 'v_call_VJ_main', 'd_call_VDJ_main', 'j_call_VDJ_main', 'j_call_VJ_main', 'c_call_VDJ_main', 'c_call_VJ_main', 'v_call_B_VDJ_main', 'd_call_B_VDJ_main', 'j_call_B_VDJ_main', 'v_call_B_VJ_main', 'j_call_B_VJ_main', 'isotype', 'isotype_status', 'locus_status', 'chain_status', 'rearrangement_status_VDJ', 'rearrangement_status_VJ'\n",
       "    obsm: 'airr'"
      ]
     },
     "execution_count": 13,
     "metadata": {},
     "output_type": "execute_result"
    }
   ],
   "source": [
    "irdatax = ddl.to_scirpy(vdj, transfer=True)\n",
    "irdatax"
   ]
  },
  {
   "cell_type": "markdown",
   "metadata": {},
   "source": [
    "### `ddl.from_scirpy` : Converting `scirpy` to `dandelion`"
   ]
  },
  {
   "cell_type": "markdown",
   "metadata": {},
   "source": [
    "Converting `MuData` back to `Dandelion`"
   ]
  },
  {
   "cell_type": "code",
   "execution_count": 14,
   "metadata": {},
   "outputs": [
    {
     "data": {
      "text/plain": [
       "Dandelion class object with n_obs = 984 and n_contigs = 2073\n",
       "    data: 'c_call', 'c_cigar', 'c_sequence_end', 'c_sequence_start', 'consensus_count', 'd_call', 'd_cigar', 'd_sequence_end', 'd_sequence_start', 'duplicate_count', 'germline_alignment', 'is_cell', 'j_call', 'j_cigar', 'j_sequence_end', 'j_sequence_start', 'junction', 'junction_aa', 'junction_aa_length', 'junction_length', 'locus', 'productive', 'rearrangement_status', 'rev_comp', 'sequence', 'sequence_aa', 'sequence_alignment', 'sequence_id', 'v_call', 'v_cigar', 'v_sequence_end', 'v_sequence_start', 'cell_id'\n",
       "    metadata: 'locus_VDJ', 'locus_VJ', 'productive_VDJ', 'productive_VJ', 'v_call_VDJ', 'd_call_VDJ', 'j_call_VDJ', 'v_call_VJ', 'j_call_VJ', 'c_call_VDJ', 'c_call_VJ', 'junction_VDJ', 'junction_VJ', 'junction_aa_VDJ', 'junction_aa_VJ', 'v_call_B_VDJ', 'd_call_B_VDJ', 'j_call_B_VDJ', 'v_call_B_VJ', 'j_call_B_VJ', 'c_call_B_VDJ', 'c_call_B_VJ', 'productive_B_VDJ', 'productive_B_VJ', 'duplicate_count_B_VDJ', 'duplicate_count_B_VJ', 'v_call_VDJ_main', 'v_call_VJ_main', 'd_call_VDJ_main', 'j_call_VDJ_main', 'j_call_VJ_main', 'c_call_VDJ_main', 'c_call_VJ_main', 'v_call_B_VDJ_main', 'd_call_B_VDJ_main', 'j_call_B_VDJ_main', 'v_call_B_VJ_main', 'j_call_B_VJ_main', 'isotype', 'isotype_status', 'locus_status', 'chain_status', 'rearrangement_status_VDJ', 'rearrangement_status_VJ'"
      ]
     },
     "execution_count": 14,
     "metadata": {},
     "output_type": "execute_result"
    }
   ],
   "source": [
    "vdjx = ddl.from_scirpy(mudata)\n",
    "vdjx"
   ]
  },
  {
   "cell_type": "markdown",
   "metadata": {},
   "source": [
    "Converting `AnnData` back to `Dandelion`"
   ]
  },
  {
   "cell_type": "code",
   "execution_count": 15,
   "metadata": {},
   "outputs": [
    {
     "data": {
      "text/plain": [
       "Dandelion class object with n_obs = 994 and n_contigs = 2093\n",
       "    data: 'c_call', 'c_cigar', 'c_sequence_end', 'c_sequence_start', 'consensus_count', 'd_call', 'd_cigar', 'd_sequence_end', 'd_sequence_start', 'duplicate_count', 'germline_alignment', 'is_cell', 'j_call', 'j_cigar', 'j_sequence_end', 'j_sequence_start', 'junction', 'junction_aa', 'junction_aa_length', 'junction_length', 'locus', 'productive', 'rearrangement_status', 'rev_comp', 'sequence', 'sequence_aa', 'sequence_alignment', 'sequence_id', 'v_call', 'v_cigar', 'v_sequence_end', 'v_sequence_start', 'cell_id'\n",
       "    metadata: 'locus_VDJ', 'locus_VJ', 'productive_VDJ', 'productive_VJ', 'v_call_VDJ', 'd_call_VDJ', 'j_call_VDJ', 'v_call_VJ', 'j_call_VJ', 'c_call_VDJ', 'c_call_VJ', 'junction_VDJ', 'junction_VJ', 'junction_aa_VDJ', 'junction_aa_VJ', 'v_call_B_VDJ', 'd_call_B_VDJ', 'j_call_B_VDJ', 'v_call_B_VJ', 'j_call_B_VJ', 'c_call_B_VDJ', 'c_call_B_VJ', 'productive_B_VDJ', 'productive_B_VJ', 'duplicate_count_B_VDJ', 'duplicate_count_B_VJ', 'v_call_VDJ_main', 'v_call_VJ_main', 'd_call_VDJ_main', 'j_call_VDJ_main', 'j_call_VJ_main', 'c_call_VDJ_main', 'c_call_VJ_main', 'v_call_B_VDJ_main', 'd_call_B_VDJ_main', 'j_call_B_VDJ_main', 'v_call_B_VJ_main', 'j_call_B_VJ_main', 'isotype', 'isotype_status', 'locus_status', 'chain_status', 'rearrangement_status_VDJ', 'rearrangement_status_VJ'"
      ]
     },
     "execution_count": 15,
     "metadata": {},
     "output_type": "execute_result"
    }
   ],
   "source": [
    "vdjx = ddl.from_scirpy(irdata)\n",
    "vdjx"
   ]
  },
  {
   "cell_type": "code",
   "execution_count": 16,
   "metadata": {},
   "outputs": [
    {
     "data": {
      "text/html": [
       "<div>\n",
       "<style scoped>\n",
       "    .dataframe tbody tr th:only-of-type {\n",
       "        vertical-align: middle;\n",
       "    }\n",
       "\n",
       "    .dataframe tbody tr th {\n",
       "        vertical-align: top;\n",
       "    }\n",
       "\n",
       "    .dataframe thead th {\n",
       "        text-align: right;\n",
       "    }\n",
       "</style>\n",
       "<table border=\"1\" class=\"dataframe\">\n",
       "  <thead>\n",
       "    <tr style=\"text-align: right;\">\n",
       "      <th></th>\n",
       "      <th>locus_VDJ</th>\n",
       "      <th>locus_VJ</th>\n",
       "      <th>productive_VDJ</th>\n",
       "      <th>productive_VJ</th>\n",
       "      <th>v_call_VDJ</th>\n",
       "      <th>d_call_VDJ</th>\n",
       "      <th>j_call_VDJ</th>\n",
       "      <th>v_call_VJ</th>\n",
       "      <th>j_call_VJ</th>\n",
       "      <th>c_call_VDJ</th>\n",
       "      <th>...</th>\n",
       "      <th>d_call_B_VDJ_main</th>\n",
       "      <th>j_call_B_VDJ_main</th>\n",
       "      <th>v_call_B_VJ_main</th>\n",
       "      <th>j_call_B_VJ_main</th>\n",
       "      <th>isotype</th>\n",
       "      <th>isotype_status</th>\n",
       "      <th>locus_status</th>\n",
       "      <th>chain_status</th>\n",
       "      <th>rearrangement_status_VDJ</th>\n",
       "      <th>rearrangement_status_VJ</th>\n",
       "    </tr>\n",
       "  </thead>\n",
       "  <tbody>\n",
       "    <tr>\n",
       "      <th>AAACCTGTCATATCGG-1</th>\n",
       "      <td>None</td>\n",
       "      <td>IGK</td>\n",
       "      <td>None</td>\n",
       "      <td>True</td>\n",
       "      <td>None</td>\n",
       "      <td>None</td>\n",
       "      <td>None</td>\n",
       "      <td>IGKV1-8</td>\n",
       "      <td>IGKJ4</td>\n",
       "      <td>None</td>\n",
       "      <td>...</td>\n",
       "      <td>None</td>\n",
       "      <td>None</td>\n",
       "      <td>IGKV1-8</td>\n",
       "      <td>IGKJ4</td>\n",
       "      <td>None</td>\n",
       "      <td>None</td>\n",
       "      <td>Orphan IGK</td>\n",
       "      <td>Orphan VJ</td>\n",
       "      <td>None</td>\n",
       "      <td>standard</td>\n",
       "    </tr>\n",
       "    <tr>\n",
       "      <th>AAACCTGTCCGTTGTC-1</th>\n",
       "      <td>IGH</td>\n",
       "      <td>IGK</td>\n",
       "      <td>True</td>\n",
       "      <td>True</td>\n",
       "      <td>IGHV1-69D</td>\n",
       "      <td>IGHD3-22</td>\n",
       "      <td>IGHJ3</td>\n",
       "      <td>IGKV1-8</td>\n",
       "      <td>IGKJ1</td>\n",
       "      <td>IGHM</td>\n",
       "      <td>...</td>\n",
       "      <td>IGHD3-22</td>\n",
       "      <td>IGHJ3</td>\n",
       "      <td>IGKV1-8</td>\n",
       "      <td>IGKJ1</td>\n",
       "      <td>IgM</td>\n",
       "      <td>IgM</td>\n",
       "      <td>IGH + IGK</td>\n",
       "      <td>Single pair</td>\n",
       "      <td>standard</td>\n",
       "      <td>standard</td>\n",
       "    </tr>\n",
       "    <tr>\n",
       "      <th>AAACCTGTCGAGAACG-1</th>\n",
       "      <td>IGH</td>\n",
       "      <td>IGL</td>\n",
       "      <td>True</td>\n",
       "      <td>True</td>\n",
       "      <td>IGHV1-2</td>\n",
       "      <td>nan</td>\n",
       "      <td>IGHJ3</td>\n",
       "      <td>IGLV5-45</td>\n",
       "      <td>IGLJ3</td>\n",
       "      <td>IGHM</td>\n",
       "      <td>...</td>\n",
       "      <td>nan</td>\n",
       "      <td>IGHJ3</td>\n",
       "      <td>IGLV5-45</td>\n",
       "      <td>IGLJ3</td>\n",
       "      <td>IgM</td>\n",
       "      <td>IgM</td>\n",
       "      <td>IGH + IGL</td>\n",
       "      <td>Single pair</td>\n",
       "      <td>standard</td>\n",
       "      <td>standard</td>\n",
       "    </tr>\n",
       "    <tr>\n",
       "      <th>AAACCTGTCTTGAGAC-1</th>\n",
       "      <td>IGH</td>\n",
       "      <td>IGK</td>\n",
       "      <td>True</td>\n",
       "      <td>True</td>\n",
       "      <td>IGHV5-51</td>\n",
       "      <td>nan</td>\n",
       "      <td>IGHJ3</td>\n",
       "      <td>IGKV1D-8</td>\n",
       "      <td>IGKJ2</td>\n",
       "      <td>IGHM</td>\n",
       "      <td>...</td>\n",
       "      <td>nan</td>\n",
       "      <td>IGHJ3</td>\n",
       "      <td>IGKV1D-8</td>\n",
       "      <td>IGKJ2</td>\n",
       "      <td>IgM</td>\n",
       "      <td>IgM</td>\n",
       "      <td>IGH + IGK</td>\n",
       "      <td>Single pair</td>\n",
       "      <td>standard</td>\n",
       "      <td>standard</td>\n",
       "    </tr>\n",
       "    <tr>\n",
       "      <th>AAACGGGAGCGACGTA-1</th>\n",
       "      <td>IGH</td>\n",
       "      <td>IGL</td>\n",
       "      <td>True</td>\n",
       "      <td>True</td>\n",
       "      <td>IGHV4-59</td>\n",
       "      <td>nan</td>\n",
       "      <td>IGHJ3</td>\n",
       "      <td>IGLV3-19</td>\n",
       "      <td>IGLJ2</td>\n",
       "      <td>IGHM</td>\n",
       "      <td>...</td>\n",
       "      <td>nan</td>\n",
       "      <td>IGHJ3</td>\n",
       "      <td>IGLV3-19</td>\n",
       "      <td>IGLJ2</td>\n",
       "      <td>IgM</td>\n",
       "      <td>IgM</td>\n",
       "      <td>IGH + IGL</td>\n",
       "      <td>Single pair</td>\n",
       "      <td>standard</td>\n",
       "      <td>standard</td>\n",
       "    </tr>\n",
       "    <tr>\n",
       "      <th>...</th>\n",
       "      <td>...</td>\n",
       "      <td>...</td>\n",
       "      <td>...</td>\n",
       "      <td>...</td>\n",
       "      <td>...</td>\n",
       "      <td>...</td>\n",
       "      <td>...</td>\n",
       "      <td>...</td>\n",
       "      <td>...</td>\n",
       "      <td>...</td>\n",
       "      <td>...</td>\n",
       "      <td>...</td>\n",
       "      <td>...</td>\n",
       "      <td>...</td>\n",
       "      <td>...</td>\n",
       "      <td>...</td>\n",
       "      <td>...</td>\n",
       "      <td>...</td>\n",
       "      <td>...</td>\n",
       "      <td>...</td>\n",
       "      <td>...</td>\n",
       "    </tr>\n",
       "    <tr>\n",
       "      <th>ACGTCAAAGTTTCCTT-1</th>\n",
       "      <td>IGH</td>\n",
       "      <td>None</td>\n",
       "      <td>True</td>\n",
       "      <td>None</td>\n",
       "      <td>IGHV3-21</td>\n",
       "      <td>nan</td>\n",
       "      <td>IGHJ4</td>\n",
       "      <td>None</td>\n",
       "      <td>None</td>\n",
       "      <td>IGHM</td>\n",
       "      <td>...</td>\n",
       "      <td>nan</td>\n",
       "      <td>IGHJ4</td>\n",
       "      <td>None</td>\n",
       "      <td>None</td>\n",
       "      <td>IgM</td>\n",
       "      <td>IgM</td>\n",
       "      <td>Orphan IGH</td>\n",
       "      <td>Orphan VDJ</td>\n",
       "      <td>standard</td>\n",
       "      <td>None</td>\n",
       "    </tr>\n",
       "    <tr>\n",
       "      <th>CACTCCACAGATGGCA-1</th>\n",
       "      <td>IGH</td>\n",
       "      <td>None</td>\n",
       "      <td>True</td>\n",
       "      <td>None</td>\n",
       "      <td>IGHV5-51</td>\n",
       "      <td>nan</td>\n",
       "      <td>IGHJ5</td>\n",
       "      <td>None</td>\n",
       "      <td>None</td>\n",
       "      <td>IGHM</td>\n",
       "      <td>...</td>\n",
       "      <td>nan</td>\n",
       "      <td>IGHJ5</td>\n",
       "      <td>None</td>\n",
       "      <td>None</td>\n",
       "      <td>IgM</td>\n",
       "      <td>IgM</td>\n",
       "      <td>Orphan IGH</td>\n",
       "      <td>Orphan VDJ</td>\n",
       "      <td>standard</td>\n",
       "      <td>None</td>\n",
       "    </tr>\n",
       "    <tr>\n",
       "      <th>CGGTTAAGTTTCGCTC-1</th>\n",
       "      <td>IGH</td>\n",
       "      <td>None</td>\n",
       "      <td>True</td>\n",
       "      <td>None</td>\n",
       "      <td>IGHV1-69D</td>\n",
       "      <td>nan</td>\n",
       "      <td>IGHJ4</td>\n",
       "      <td>None</td>\n",
       "      <td>None</td>\n",
       "      <td>IGHM</td>\n",
       "      <td>...</td>\n",
       "      <td>nan</td>\n",
       "      <td>IGHJ4</td>\n",
       "      <td>None</td>\n",
       "      <td>None</td>\n",
       "      <td>IgM</td>\n",
       "      <td>IgM</td>\n",
       "      <td>Orphan IGH</td>\n",
       "      <td>Orphan VDJ</td>\n",
       "      <td>standard</td>\n",
       "      <td>None</td>\n",
       "    </tr>\n",
       "    <tr>\n",
       "      <th>GTATCTTTCGAGAGCA-1</th>\n",
       "      <td>IGH</td>\n",
       "      <td>None</td>\n",
       "      <td>True</td>\n",
       "      <td>None</td>\n",
       "      <td>IGHV3-23</td>\n",
       "      <td>IGHD3-3</td>\n",
       "      <td>IGHJ4</td>\n",
       "      <td>None</td>\n",
       "      <td>None</td>\n",
       "      <td>IGHD</td>\n",
       "      <td>...</td>\n",
       "      <td>IGHD3-3</td>\n",
       "      <td>IGHJ4</td>\n",
       "      <td>None</td>\n",
       "      <td>None</td>\n",
       "      <td>IgD</td>\n",
       "      <td>IgD</td>\n",
       "      <td>Orphan IGH</td>\n",
       "      <td>Orphan VDJ</td>\n",
       "      <td>standard</td>\n",
       "      <td>None</td>\n",
       "    </tr>\n",
       "    <tr>\n",
       "      <th>TGACTTTGTTATCGGT-1</th>\n",
       "      <td>IGH</td>\n",
       "      <td>None</td>\n",
       "      <td>True</td>\n",
       "      <td>None</td>\n",
       "      <td>IGHV1-69D</td>\n",
       "      <td>nan</td>\n",
       "      <td>IGHJ3</td>\n",
       "      <td>None</td>\n",
       "      <td>None</td>\n",
       "      <td>IGHM</td>\n",
       "      <td>...</td>\n",
       "      <td>nan</td>\n",
       "      <td>IGHJ3</td>\n",
       "      <td>None</td>\n",
       "      <td>None</td>\n",
       "      <td>IgM</td>\n",
       "      <td>IgM</td>\n",
       "      <td>Orphan IGH</td>\n",
       "      <td>Orphan VDJ</td>\n",
       "      <td>standard</td>\n",
       "      <td>None</td>\n",
       "    </tr>\n",
       "  </tbody>\n",
       "</table>\n",
       "<p>994 rows × 44 columns</p>\n",
       "</div>"
      ],
      "text/plain": [
       "                   locus_VDJ locus_VJ productive_VDJ productive_VJ v_call_VDJ  \\\n",
       "AAACCTGTCATATCGG-1      None      IGK           None          True       None   \n",
       "AAACCTGTCCGTTGTC-1       IGH      IGK           True          True  IGHV1-69D   \n",
       "AAACCTGTCGAGAACG-1       IGH      IGL           True          True    IGHV1-2   \n",
       "AAACCTGTCTTGAGAC-1       IGH      IGK           True          True   IGHV5-51   \n",
       "AAACGGGAGCGACGTA-1       IGH      IGL           True          True   IGHV4-59   \n",
       "...                      ...      ...            ...           ...        ...   \n",
       "ACGTCAAAGTTTCCTT-1       IGH     None           True          None   IGHV3-21   \n",
       "CACTCCACAGATGGCA-1       IGH     None           True          None   IGHV5-51   \n",
       "CGGTTAAGTTTCGCTC-1       IGH     None           True          None  IGHV1-69D   \n",
       "GTATCTTTCGAGAGCA-1       IGH     None           True          None   IGHV3-23   \n",
       "TGACTTTGTTATCGGT-1       IGH     None           True          None  IGHV1-69D   \n",
       "\n",
       "                   d_call_VDJ j_call_VDJ v_call_VJ j_call_VJ c_call_VDJ  ...  \\\n",
       "AAACCTGTCATATCGG-1       None       None   IGKV1-8     IGKJ4       None  ...   \n",
       "AAACCTGTCCGTTGTC-1   IGHD3-22      IGHJ3   IGKV1-8     IGKJ1       IGHM  ...   \n",
       "AAACCTGTCGAGAACG-1        nan      IGHJ3  IGLV5-45     IGLJ3       IGHM  ...   \n",
       "AAACCTGTCTTGAGAC-1        nan      IGHJ3  IGKV1D-8     IGKJ2       IGHM  ...   \n",
       "AAACGGGAGCGACGTA-1        nan      IGHJ3  IGLV3-19     IGLJ2       IGHM  ...   \n",
       "...                       ...        ...       ...       ...        ...  ...   \n",
       "ACGTCAAAGTTTCCTT-1        nan      IGHJ4      None      None       IGHM  ...   \n",
       "CACTCCACAGATGGCA-1        nan      IGHJ5      None      None       IGHM  ...   \n",
       "CGGTTAAGTTTCGCTC-1        nan      IGHJ4      None      None       IGHM  ...   \n",
       "GTATCTTTCGAGAGCA-1    IGHD3-3      IGHJ4      None      None       IGHD  ...   \n",
       "TGACTTTGTTATCGGT-1        nan      IGHJ3      None      None       IGHM  ...   \n",
       "\n",
       "                   d_call_B_VDJ_main j_call_B_VDJ_main v_call_B_VJ_main  \\\n",
       "AAACCTGTCATATCGG-1              None              None          IGKV1-8   \n",
       "AAACCTGTCCGTTGTC-1          IGHD3-22             IGHJ3          IGKV1-8   \n",
       "AAACCTGTCGAGAACG-1               nan             IGHJ3         IGLV5-45   \n",
       "AAACCTGTCTTGAGAC-1               nan             IGHJ3         IGKV1D-8   \n",
       "AAACGGGAGCGACGTA-1               nan             IGHJ3         IGLV3-19   \n",
       "...                              ...               ...              ...   \n",
       "ACGTCAAAGTTTCCTT-1               nan             IGHJ4             None   \n",
       "CACTCCACAGATGGCA-1               nan             IGHJ5             None   \n",
       "CGGTTAAGTTTCGCTC-1               nan             IGHJ4             None   \n",
       "GTATCTTTCGAGAGCA-1           IGHD3-3             IGHJ4             None   \n",
       "TGACTTTGTTATCGGT-1               nan             IGHJ3             None   \n",
       "\n",
       "                   j_call_B_VJ_main isotype isotype_status locus_status  \\\n",
       "AAACCTGTCATATCGG-1            IGKJ4    None           None   Orphan IGK   \n",
       "AAACCTGTCCGTTGTC-1            IGKJ1     IgM            IgM    IGH + IGK   \n",
       "AAACCTGTCGAGAACG-1            IGLJ3     IgM            IgM    IGH + IGL   \n",
       "AAACCTGTCTTGAGAC-1            IGKJ2     IgM            IgM    IGH + IGK   \n",
       "AAACGGGAGCGACGTA-1            IGLJ2     IgM            IgM    IGH + IGL   \n",
       "...                             ...     ...            ...          ...   \n",
       "ACGTCAAAGTTTCCTT-1             None     IgM            IgM   Orphan IGH   \n",
       "CACTCCACAGATGGCA-1             None     IgM            IgM   Orphan IGH   \n",
       "CGGTTAAGTTTCGCTC-1             None     IgM            IgM   Orphan IGH   \n",
       "GTATCTTTCGAGAGCA-1             None     IgD            IgD   Orphan IGH   \n",
       "TGACTTTGTTATCGGT-1             None     IgM            IgM   Orphan IGH   \n",
       "\n",
       "                   chain_status rearrangement_status_VDJ  \\\n",
       "AAACCTGTCATATCGG-1    Orphan VJ                     None   \n",
       "AAACCTGTCCGTTGTC-1  Single pair                 standard   \n",
       "AAACCTGTCGAGAACG-1  Single pair                 standard   \n",
       "AAACCTGTCTTGAGAC-1  Single pair                 standard   \n",
       "AAACGGGAGCGACGTA-1  Single pair                 standard   \n",
       "...                         ...                      ...   \n",
       "ACGTCAAAGTTTCCTT-1   Orphan VDJ                 standard   \n",
       "CACTCCACAGATGGCA-1   Orphan VDJ                 standard   \n",
       "CGGTTAAGTTTCGCTC-1   Orphan VDJ                 standard   \n",
       "GTATCTTTCGAGAGCA-1   Orphan VDJ                 standard   \n",
       "TGACTTTGTTATCGGT-1   Orphan VDJ                 standard   \n",
       "\n",
       "                   rearrangement_status_VJ  \n",
       "AAACCTGTCATATCGG-1                standard  \n",
       "AAACCTGTCCGTTGTC-1                standard  \n",
       "AAACCTGTCGAGAACG-1                standard  \n",
       "AAACCTGTCTTGAGAC-1                standard  \n",
       "AAACGGGAGCGACGTA-1                standard  \n",
       "...                                    ...  \n",
       "ACGTCAAAGTTTCCTT-1                    None  \n",
       "CACTCCACAGATGGCA-1                    None  \n",
       "CGGTTAAGTTTCGCTC-1                    None  \n",
       "GTATCTTTCGAGAGCA-1                    None  \n",
       "TGACTTTGTTATCGGT-1                    None  \n",
       "\n",
       "[994 rows x 44 columns]"
      ]
     },
     "execution_count": 16,
     "metadata": {},
     "output_type": "execute_result"
    }
   ],
   "source": [
    "vdjx.metadata"
   ]
  },
  {
   "cell_type": "markdown",
   "metadata": {},
   "source": [
    "This time, find clones with `scirpy`'s method."
   ]
  },
  {
   "cell_type": "code",
   "execution_count": 17,
   "metadata": {
    "scrolled": true
   },
   "outputs": [
    {
     "name": "stdout",
     "output_type": "stream",
     "text": [
      "WARNING: No chain indices found under adata.obsm['chain_indices']. Running scirpy.pp.index_chains with default parameters. \n"
     ]
    },
    {
     "name": "stderr",
     "output_type": "stream",
     "text": [
      "100%|██████████| 105/105 [00:27<00:00,  3.86it/s]\n",
      "100%|██████████| 231/231 [00:32<00:00,  7.18it/s]\n",
      "100%|██████████| 984/984 [00:19<00:00, 51.39it/s]\n"
     ]
    },
    {
     "data": {
      "text/plain": [
       "AnnData object with n_obs × n_vars = 994 × 0\n",
       "    obs: 'receptor_type', 'receptor_subtype', 'chain_pairing', 'clone_id', 'clone_id_size'\n",
       "    uns: 'chain_indices', 'ir_dist_aa_hamming', 'ir_dist_nt_identity', 'clone_id'\n",
       "    obsm: 'airr', 'chain_indices'"
      ]
     },
     "execution_count": 17,
     "metadata": {},
     "output_type": "execute_result"
    }
   ],
   "source": [
    "ir.tl.chain_qc(irdata)\n",
    "ir.pp.ir_dist(irdata, metric=\"hamming\", sequence=\"aa\")\n",
    "ir.tl.define_clonotypes(irdata)\n",
    "irdata"
   ]
  },
  {
   "cell_type": "markdown",
   "metadata": {},
   "source": [
    "### Visualising with `scirpy`'s plotting tools\n",
    "\n",
    "You can now also plot `dandelion` networks using `scirpy`'s functions."
   ]
  },
  {
   "cell_type": "code",
   "execution_count": 20,
   "metadata": {},
   "outputs": [
    {
     "name": "stderr",
     "output_type": "stream",
     "text": [
      "Setting up data: 2093it [00:00, 3007.54it/s]\n",
      "Calculating distances : 100%|██████████| 1154/1154 [00:00<00:00, 1390.18it/s]\n",
      "Aggregating distances : 100%|██████████| 4/4 [00:00<00:00, 124.24it/s]\n",
      "Sorting into clusters : 100%|██████████| 1154/1154 [00:03<00:00, 371.30it/s]\n",
      "Calculating minimum spanning tree : 100%|██████████| 8/8 [00:00<00:00, 88.54it/s]\n",
      "Generating edge list : 100%|██████████| 8/8 [00:00<00:00, 274.32it/s]\n",
      "Computing overlap : 100%|██████████| 1154/1154 [00:04<00:00, 273.44it/s]\n",
      "Adjust overlap : 100%|██████████| 82/82 [00:00<00:00, 140.61it/s]\n",
      "Linking edges : 100%|██████████| 984/984 [00:00<00:00, 9872.54it/s]\n"
     ]
    },
    {
     "name": "stdout",
     "output_type": "stream",
     "text": [
      "To benefit from faster layout computation, please install graph-tool: conda install -c conda-forge graph-tool\n",
      "Computing network layout\n",
      "Computing expanded network layout\n"
     ]
    }
   ],
   "source": [
    "ddl.tl.generate_network(vdj, key=\"junction\")"
   ]
  },
  {
   "cell_type": "code",
   "execution_count": 21,
   "metadata": {},
   "outputs": [],
   "source": [
    "irdata.obs[\"scirpy_clone_id\"] = irdata.obs[\"clone_id\"]  # stash it\n",
    "ddl.tl.transfer(\n",
    "    irdata, vdj, overwrite=True\n",
    ")  # overwrite scirpy's clone_id definition"
   ]
  },
  {
   "cell_type": "code",
   "execution_count": 22,
   "metadata": {},
   "outputs": [
    {
     "name": "stderr",
     "output_type": "stream",
     "text": [
      "c:\\Users\\Amos Choo\\Desktop\\dandelion\\env\\Lib\\site-packages\\scirpy\\pl\\_clonotypes.py:194: FutureWarning: is_categorical_dtype is deprecated and will be removed in a future version. Use isinstance(dtype, CategoricalDtype) instead\n",
      "c:\\Users\\Amos Choo\\Desktop\\dandelion\\env\\Lib\\site-packages\\scirpy\\pl\\_clonotypes.py:466: FutureWarning: is_categorical_dtype is deprecated and will be removed in a future version. Use isinstance(dtype, CategoricalDtype) instead\n",
      "c:\\Users\\Amos Choo\\Desktop\\dandelion\\env\\Lib\\site-packages\\scirpy\\pl\\_clonotypes.py:471: FutureWarning: is_categorical_dtype is deprecated and will be removed in a future version. Use isinstance(dtype, CategoricalDtype) instead\n"
     ]
    },
    {
     "data": {
      "text/plain": [
       "<Axes: >"
      ]
     },
     "execution_count": 22,
     "metadata": {},
     "output_type": "execute_result"
    },
    {
     "data": {
      "image/png": "[encoded data removed]",
      "text/plain": [
       "<Figure size 950x700 with 4 Axes>"
      ]
     },
     "metadata": {},
     "output_type": "display_data"
    }
   ],
   "source": [
    "ir.tl.clonotype_network(irdata, min_cells=2)\n",
    "ir.pl.clonotype_network(irdata, color=\"clone_id\", panel_size=(7, 7))"
   ]
  },
  {
   "cell_type": "markdown",
   "metadata": {},
   "source": [
    "to swap to a shorter clone_id name (ordered by size)"
   ]
  },
  {
   "cell_type": "code",
   "execution_count": 23,
   "metadata": {},
   "outputs": [
    {
     "name": "stderr",
     "output_type": "stream",
     "text": [
      "c:\\Users\\Amos Choo\\Desktop\\dandelion\\env\\Lib\\site-packages\\scirpy\\pl\\_clonotypes.py:194: FutureWarning: is_categorical_dtype is deprecated and will be removed in a future version. Use isinstance(dtype, CategoricalDtype) instead\n",
      "c:\\Users\\Amos Choo\\Desktop\\dandelion\\env\\Lib\\site-packages\\scirpy\\pl\\_clonotypes.py:466: FutureWarning: is_categorical_dtype is deprecated and will be removed in a future version. Use isinstance(dtype, CategoricalDtype) instead\n",
      "c:\\Users\\Amos Choo\\Desktop\\dandelion\\env\\Lib\\site-packages\\scirpy\\pl\\_clonotypes.py:471: FutureWarning: is_categorical_dtype is deprecated and will be removed in a future version. Use isinstance(dtype, CategoricalDtype) instead\n"
     ]
    },
    {
     "data": {
      "text/plain": [
       "<Axes: >"
      ]
     },
     "execution_count": 23,
     "metadata": {},
     "output_type": "execute_result"
    },
    {
     "data": {
      "image/png": "[encoded data removed]",
      "text/plain": [
       "<Figure size 950x700 with 4 Axes>"
      ]
     },
     "metadata": {},
     "output_type": "display_data"
    }
   ],
   "source": [
    "ddl.tl.transfer(irdata, vdj, clone_key=\"clone_id_by_size\")\n",
    "ir.tl.clonotype_network(irdata, clonotype_key=\"clone_id_by_size\", min_cells=2)\n",
    "ir.pl.clonotype_network(irdata, color=\"clone_id_by_size\", panel_size=(7, 7))"
   ]
  },
  {
   "cell_type": "markdown",
   "metadata": {},
   "source": [
    "you can also collapse the networks to a single node and plot by size"
   ]
  },
  {
   "cell_type": "code",
   "execution_count": 24,
   "metadata": {},
   "outputs": [
    {
     "name": "stderr",
     "output_type": "stream",
     "text": [
      "c:\\Users\\Amos Choo\\Desktop\\dandelion\\env\\Lib\\site-packages\\scirpy\\pl\\_clonotypes.py:194: FutureWarning: is_categorical_dtype is deprecated and will be removed in a future version. Use isinstance(dtype, CategoricalDtype) instead\n",
      "c:\\Users\\Amos Choo\\Desktop\\dandelion\\env\\Lib\\site-packages\\scirpy\\pl\\_clonotypes.py:466: FutureWarning: is_categorical_dtype is deprecated and will be removed in a future version. Use isinstance(dtype, CategoricalDtype) instead\n",
      "c:\\Users\\Amos Choo\\Desktop\\dandelion\\env\\Lib\\site-packages\\scirpy\\pl\\_clonotypes.py:471: FutureWarning: is_categorical_dtype is deprecated and will be removed in a future version. Use isinstance(dtype, CategoricalDtype) instead\n"
     ]
    },
    {
     "data": {
      "text/plain": [
       "<Axes: >"
      ]
     },
     "execution_count": 24,
     "metadata": {},
     "output_type": "execute_result"
    },
    {
     "data": {
      "image/png": "[encoded data removed]",
      "text/plain": [
       "<Figure size 950x700 with 4 Axes>"
      ]
     },
     "metadata": {},
     "output_type": "display_data"
    }
   ],
   "source": [
    "ddl.tl.transfer(irdata, vdj, clone_key=\"clone_id_by_size\", collapse_nodes=True)\n",
    "ir.tl.clonotype_network(irdata, clonotype_key=\"clone_id_by_size\", min_cells=2)\n",
    "ir.pl.clonotype_network(irdata, color=\"scirpy_clone_id\", panel_size=(7, 7))"
   ]
  },
  {
   "cell_type": "code",
   "execution_count": null,
   "metadata": {},
   "outputs": [],
   "source": []
  }
 ],
 "metadata": {
  "kernelspec": {
   "display_name": "Python 3 (ipykernel)",
   "language": "python",
   "name": "python3"
  },
  "language_info": {
   "codemirror_mode": {
    "name": "ipython",
    "version": 3
   },
   "file_extension": ".py",
   "mimetype": "text/x-python",
   "name": "python",
   "nbconvert_exporter": "python",
   "pygments_lexer": "ipython3",
   "version": "3.11.2"
  }
 },
 "nbformat": 4,
 "nbformat_minor": 4
}
